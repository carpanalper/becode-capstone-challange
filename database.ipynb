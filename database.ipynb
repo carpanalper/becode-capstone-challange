{
 "cells": [
  {
   "cell_type": "code",
   "execution_count": 1,
   "metadata": {},
   "outputs": [],
   "source": [
    "import sqlite3\n",
    "import json"
   ]
  },
  {
   "cell_type": "code",
   "execution_count": 13,
   "metadata": {},
   "outputs": [],
   "source": [
    "def database_connection():\n",
    "    conn = sqlite3.connect('news.db')\n",
    "    cursor = conn.cursor()\n",
    "    cursor.execute('''\n",
    "    CREATE TABLE IF NOT EXISTS news \n",
    "    (\n",
    "        id INTEGER PRIMARY KEY AUTOINCREMENT, \n",
    "        url TEXT UNIQUE NOT NULL,\n",
    "        topic TEXT,\n",
    "        title TEXT,\n",
    "        date DATETIME\n",
    "    )                                 \n",
    "                    ''')\n",
    "    \n",
    "    return conn, cursor"
   ]
  },
  {
   "cell_type": "code",
   "execution_count": 16,
   "metadata": {},
   "outputs": [],
   "source": [
    "def json_to_db(file_name=\"latest_news.json\"):\n",
    "    #read json file\n",
    "    with open(file_name, 'r') as f:\n",
    "        news_list = json.load(f)\n",
    "    \n",
    "    #connect to database\n",
    "    conn, cursor = database_connection()\n",
    "\n",
    "    #insert news into database\n",
    "    cursor.executemany('''\n",
    "    INSERT INTO news (url, topic, title, date)\n",
    "    VALUES (:url, :topic, :title, :date)\n",
    "                       ''',[(elem['link'], elem['topic'], elem['title'], elem['date']) for elem in news_list])\n",
    "    \n",
    "    conn.commit()\n",
    "    conn.close()"
   ]
  },
  {
   "cell_type": "code",
   "execution_count": 18,
   "metadata": {},
   "outputs": [],
   "source": [
    "json_to_db()"
   ]
  }
 ],
 "metadata": {
  "kernelspec": {
   "display_name": "Python 3",
   "language": "python",
   "name": "python3"
  },
  "language_info": {
   "codemirror_mode": {
    "name": "ipython",
    "version": 3
   },
   "file_extension": ".py",
   "mimetype": "text/x-python",
   "name": "python",
   "nbconvert_exporter": "python",
   "pygments_lexer": "ipython3",
   "version": "3.11.9"
  }
 },
 "nbformat": 4,
 "nbformat_minor": 2
}
